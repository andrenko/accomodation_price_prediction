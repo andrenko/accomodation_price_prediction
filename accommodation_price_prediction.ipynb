{
 "cells": [
  {
   "cell_type": "markdown",
   "metadata": {},
   "source": [
    "In this project I'm going to present model for accommodation price prediction. \n",
    "We start with importing dependencies:"
   ]
  },
  {
   "cell_type": "code",
   "execution_count": 2,
   "metadata": {},
   "outputs": [],
   "source": [
    "from collections import Counter\n",
    "from datetime import date\n",
    "import matplotlib.pyplot as plt\n",
    "import pandas as pd\n",
    "import seaborn as sns\n",
    "from sklearn.metrics import r2_score, mean_absolute_error\n",
    "from sklearn.model_selection import GridSearchCV\n",
    "from sklearn.model_selection import train_test_split\n",
    "from sklearn.ensemble import GradientBoostingRegressor, RandomForestRegressor\n",
    "from sklearn.linear_model import LinearRegression, LogisticRegression, Ridge, Lasso, ElasticNet\n",
    "from sklearn.neighbors import KNeighborsRegressor\n",
    "from sklearn.svm import SVR\n",
    "import warnings\n",
    "warnings.filterwarnings(\"ignore\")"
   ]
  },
  {
   "cell_type": "markdown",
   "metadata": {},
   "source": [
    "Next we can load the datasets for trains and prediction."
   ]
  },
  {
   "cell_type": "code",
   "execution_count": 3,
   "metadata": {},
   "outputs": [
    {
     "name": "stdout",
     "output_type": "stream",
     "text": [
      "Shape of dataset: (3631, 45)\n",
      "                                        name  \\\n",
      "train 0       Guest Quarters on Capitol Hill   \n",
      "      1  Private oasis. Top floor w/ 2 decks   \n",
      "      2    People's Place -Convention Center   \n",
      "      3                           M St Apt C   \n",
      "      4   Columbia Heights Rm w/Private Bath   \n",
      "\n",
      "                                                   summary  \\\n",
      "train 0  The  Guest Quarters on Capitol Hill is a garde...   \n",
      "      1  Top two floors, two bathrooms and two decks. M...   \n",
      "      2                                                NaN   \n",
      "      3  Inspired by MidEast styles. 1 full bed, 1 air ...   \n",
      "      4  Enjoy our dressed up guest room in the heart o...   \n",
      "\n",
      "                                               description  \\\n",
      "train 0  The  Guest Quarters on Capitol Hill is a garde...   \n",
      "      1  Top two floors, two bathrooms and two decks. M...   \n",
      "      2  This 2 bedroom apartment is on the ground floo...   \n",
      "      3  Inspired by MidEast styles. 1 full bed, 1 air ...   \n",
      "      4  Enjoy our dressed up guest room in the heart o...   \n",
      "\n",
      "                                     neighborhood_overview  \\\n",
      "train 0  the convenience and charm of being on Capitol ...   \n",
      "      1  Adams Morgan is the most vibrant part of DC wh...   \n",
      "      2                                                NaN   \n",
      "      3  I love this neighborhood! Mt. Vernon is the ve...   \n",
      "      4                                                NaN   \n",
      "\n",
      "                                                   transit  host_since  \\\n",
      "train 0  The Red Line and the Blue Line Metros are with...  2013-08-14   \n",
      "      1  There is so many transportation options. Acros...  2012-01-23   \n",
      "      2                                                NaN  2009-10-31   \n",
      "      3  The Mt. Vernon Sq metro is just 2 blocks away ...  2013-04-23   \n",
      "      4                                                NaN  2012-07-09   \n",
      "\n",
      "                                           host_location  \\\n",
      "train 0  Washington, District of Columbia, United States   \n",
      "      1  Washington, District of Columbia, United States   \n",
      "      2              Berkeley, California, United States   \n",
      "      3         San Francisco, California, United States   \n",
      "      4  Washington, District of Columbia, United States   \n",
      "\n",
      "                                                host_about host_response_rate  \\\n",
      "train 0  We are a reservation service for many DC area ...                98%   \n",
      "      1  I have lived in DC for that past five years, b...               100%   \n",
      "      2  A professional photo editor and photographer l...                97%   \n",
      "      3  I am from Oakland, California and I like to li...                92%   \n",
      "      4  I'm a tree-hugger at heart. My wife is an arti...               100%   \n",
      "\n",
      "        host_acceptance_rate  ... review_scores_accuracy  \\\n",
      "train 0                  52%  ...                   10.0   \n",
      "      1                 100%  ...                    9.0   \n",
      "      2                 100%  ...                    8.0   \n",
      "      3                 100%  ...                    9.0   \n",
      "      4                  75%  ...                    9.0   \n",
      "\n",
      "        review_scores_cleanliness review_scores_checkin  \\\n",
      "train 0                      10.0                  10.0   \n",
      "      1                       9.0                  10.0   \n",
      "      2                       8.0                   9.0   \n",
      "      3                       8.0                   8.0   \n",
      "      4                       9.0                  10.0   \n",
      "\n",
      "        review_scores_communication review_scores_location  \\\n",
      "train 0                        10.0                   10.0   \n",
      "      1                         9.0                   10.0   \n",
      "      2                         9.0                    9.0   \n",
      "      3                         8.0                    9.0   \n",
      "      4                        10.0                    8.0   \n",
      "\n",
      "        review_scores_value instant_bookable cancellation_policy  \\\n",
      "train 0                 8.0                f              strict   \n",
      "      1                 9.0                f              strict   \n",
      "      2                 9.0                f              strict   \n",
      "      3                 9.0                f            flexible   \n",
      "      4                 9.0                f            moderate   \n",
      "\n",
      "        calculated_host_listings_count reviews_per_month  \n",
      "train 0                             41              0.18  \n",
      "      1                              1              0.41  \n",
      "      2                              3              1.09  \n",
      "      3                              4              4.34  \n",
      "      4                              3              0.09  \n",
      "\n",
      "[5 rows x 45 columns]\n",
      "<class 'pandas.core.frame.DataFrame'>\n",
      "MultiIndex: 3631 entries, ('train', 0) to ('submission', 617)\n",
      "Data columns (total 45 columns):\n",
      " #   Column                          Non-Null Count  Dtype  \n",
      "---  ------                          --------------  -----  \n",
      " 0   name                            3631 non-null   object \n",
      " 1   summary                         3374 non-null   object \n",
      " 2   description                     3630 non-null   object \n",
      " 3   neighborhood_overview           2390 non-null   object \n",
      " 4   transit                         2510 non-null   object \n",
      " 5   host_since                      3631 non-null   object \n",
      " 6   host_location                   3625 non-null   object \n",
      " 7   host_about                      2691 non-null   object \n",
      " 8   host_response_rate              3210 non-null   object \n",
      " 9   host_acceptance_rate            3032 non-null   object \n",
      " 10  host_neighbourhood              3371 non-null   object \n",
      " 11  host_verifications              3631 non-null   object \n",
      " 12  neighbourhood_cleansed          3631 non-null   object \n",
      " 13  city                            3631 non-null   object \n",
      " 14  state                           3631 non-null   object \n",
      " 15  zipcode                         3622 non-null   object \n",
      " 16  market                          3631 non-null   object \n",
      " 17  smart_location                  3631 non-null   object \n",
      " 18  country_code                    3631 non-null   object \n",
      " 19  country                         3631 non-null   object \n",
      " 20  property_type                   3630 non-null   object \n",
      " 21  room_type                       3631 non-null   object \n",
      " 22  accommodates                    3631 non-null   int64  \n",
      " 23  bathrooms                       3604 non-null   float64\n",
      " 24  bedrooms                        3616 non-null   float64\n",
      " 25  beds                            3621 non-null   float64\n",
      " 26  bed_type                        3631 non-null   object \n",
      " 27  amenities                       3631 non-null   object \n",
      " 28  price                           3013 non-null   object \n",
      " 29  cleaning_fee                    2271 non-null   object \n",
      " 30  guests_included                 3631 non-null   int64  \n",
      " 31  minimum_nights                  3631 non-null   int64  \n",
      " 32  maximum_nights                  3631 non-null   int64  \n",
      " 33  number_of_reviews               3631 non-null   int64  \n",
      " 34  review_scores_rating            2776 non-null   float64\n",
      " 35  review_scores_accuracy          2769 non-null   float64\n",
      " 36  review_scores_cleanliness       2768 non-null   float64\n",
      " 37  review_scores_checkin           2768 non-null   float64\n",
      " 38  review_scores_communication     2772 non-null   float64\n",
      " 39  review_scores_location          2772 non-null   float64\n",
      " 40  review_scores_value             2772 non-null   float64\n",
      " 41  instant_bookable                3631 non-null   object \n",
      " 42  cancellation_policy             3631 non-null   object \n",
      " 43  calculated_host_listings_count  3631 non-null   int64  \n",
      " 44  reviews_per_month               2814 non-null   float64\n",
      "dtypes: float64(11), int64(6), object(28)\n",
      "memory usage: 1.3+ MB\n",
      "None\n"
     ]
    }
   ],
   "source": [
    "df_train = pd.read_csv('train.csv')\n",
    "df_submission = pd.read_csv('submission.csv')\n",
    "df = pd.concat([df_train, df_submission], keys=['train', 'submission'])\n",
    "print(f\"Shape of dataset: {df.shape}\")\n",
    "print(df.head())\n",
    "print(df.info())"
   ]
  },
  {
   "cell_type": "markdown",
   "metadata": {},
   "source": [
    "## Data processing and feature engineering.\n",
    "At first we will convert numeric columns to numbers."
   ]
  },
  {
   "cell_type": "code",
   "execution_count": 4,
   "metadata": {},
   "outputs": [
    {
     "name": "stdout",
     "output_type": "stream",
     "text": [
      "Price column before conversion:\n",
      "train  0    $195.00\n",
      "       1    $150.00\n",
      "Name: price, dtype: object\n",
      "Price column after conversion:\n",
      "train  0    195.0\n",
      "       1    150.0\n",
      "Name: price, dtype: float64\n",
      "Percent columns before conversion:\n",
      "(array(['98%', '100%', '97%', '92%', nan, '90%', '58%', '89%', '30%',\n",
      "       '93%', '91%', '82%', '75%', '50%', '68%', '67%', '80%', '63%',\n",
      "       '70%', '60%', '94%', '96%', '33%', '78%', '83%', '81%', '99%',\n",
      "       '20%', '64%', '85%', '40%', '62%', '86%', '95%', '56%', '84%',\n",
      "       '43%', '54%', '73%', '71%', '87%', '88%', '59%', '57%', '79%',\n",
      "       '36%', '7%', '32%', '53%', '69%', '77%', '25%', '74%', '52%',\n",
      "       '41%', '66%', '76%', '17%', '27%', '65%', '47%'], dtype=object), array(['52%', '100%', '75%', '90%', nan, '88%', '94%', '50%', '99%',\n",
      "       '92%', '51%', '76%', '98%', '69%', '73%', '71%', '57%', '0%',\n",
      "       '56%', '91%', '77%', '62%', '67%', '55%', '97%', '63%', '60%',\n",
      "       '85%', '96%', '93%', '40%', '89%', '86%', '81%', '80%', '79%',\n",
      "       '38%', '87%', '95%', '84%', '82%', '29%', '65%', '44%', '58%',\n",
      "       '83%', '33%', '25%', '70%', '78%', '15%', '59%', '72%', '45%',\n",
      "       '30%', '47%', '61%', '43%', '27%', '46%', '64%', '28%', '20%',\n",
      "       '66%', '42%', '68%', '11%', '36%', '10%', '74%'], dtype=object))\n",
      "Percent columns after conversion:\n",
      "(array([0.98, 1.  , 0.97, 0.92, 0.  , 0.9 , 0.58, 0.89, 0.3 , 0.93, 0.91,\n",
      "       0.82, 0.75, 0.5 , 0.68, 0.67, 0.8 , 0.63, 0.7 , 0.6 , 0.94, 0.96,\n",
      "       0.33, 0.78, 0.83, 0.81, 0.99, 0.2 , 0.64, 0.85, 0.4 , 0.62, 0.86,\n",
      "       0.95, 0.56, 0.84, 0.43, 0.54, 0.73, 0.71, 0.87, 0.88, 0.59, 0.57,\n",
      "       0.79, 0.36, 0.07, 0.32, 0.53, 0.69, 0.77, 0.25, 0.74, 0.52, 0.41,\n",
      "       0.66, 0.76, 0.17, 0.27, 0.65, 0.47]), array([0.52, 1.  , 0.75, 0.9 , 0.  , 0.88, 0.94, 0.5 , 0.99, 0.92, 0.51,\n",
      "       0.76, 0.98, 0.69, 0.73, 0.71, 0.57, 0.56, 0.91, 0.77, 0.62, 0.67,\n",
      "       0.55, 0.97, 0.63, 0.6 , 0.85, 0.96, 0.93, 0.4 , 0.89, 0.86, 0.81,\n",
      "       0.8 , 0.79, 0.38, 0.87, 0.95, 0.84, 0.82, 0.29, 0.65, 0.44, 0.58,\n",
      "       0.83, 0.33, 0.25, 0.7 , 0.78, 0.15, 0.59, 0.72, 0.45, 0.3 , 0.47,\n",
      "       0.61, 0.43, 0.27, 0.46, 0.64, 0.28, 0.2 , 0.66, 0.42, 0.68, 0.11,\n",
      "       0.36, 0.1 , 0.74]))\n",
      "Instant_bookable column before conversion:\n",
      "train  0    f\n",
      "       1    f\n",
      "Name: instant_bookable, dtype: object\n",
      "Instant_bookable column after conversion:\n",
      "train  0    0\n",
      "       1    0\n",
      "Name: instant_bookable, dtype: int64\n"
     ]
    }
   ],
   "source": [
    "# Converting price columns to numbers\n",
    "print(f\"Price column before conversion:\\n{df['price'].head(2)}\")\n",
    "for column in ['price', 'cleaning_fee']:\n",
    "    df[column] = df[column].apply(lambda x: float(str(x).replace(',', '').split('$')[-1]))\n",
    "print(f\"Price column after conversion:\\n{df['price'].head(2)}\")\n",
    "\n",
    "# Converting percent columns to numbers\n",
    "print(f\"Percent columns before conversion:\\n{df['host_response_rate'].unique(), df['host_acceptance_rate'].unique()}\")\n",
    "for column in ['host_response_rate', 'host_acceptance_rate']:\n",
    "    df[column] = df[column].fillna(0).apply(lambda x: 0.01 * int(str(x).split('%')[0]))\n",
    "print(f\"Percent columns after conversion:\\n{df['host_response_rate'].unique(), df['host_acceptance_rate'].unique()}\")\n",
    "\n",
    "# Converting boolean to numbers\n",
    "print(f\"Instant_bookable column before conversion:\\n{df['instant_bookable'].head(2)}\")\n",
    "df['instant_bookable'] = df['instant_bookable'].apply(lambda x: 0 if x == 'f' else (1 if x == 't' else None))\n",
    "print(f\"Instant_bookable column after conversion:\\n{df['instant_bookable'].head(2)}\")"
   ]
  },
  {
   "cell_type": "markdown",
   "metadata": {},
   "source": [
    "Now we will be exploring object columns. We will drop textual columns like name, summary, description. We keep smart_location as location identifier because it contains city, state, and market values. We will also drop 'country_code' and 'country' because our dataset contains only one country."
   ]
  },
  {
   "cell_type": "code",
   "execution_count": 5,
   "metadata": {},
   "outputs": [
    {
     "name": "stdout",
     "output_type": "stream",
     "text": [
      "Object columns:\n",
      "                                        name  \\\n",
      "train 0       Guest Quarters on Capitol Hill   \n",
      "      1  Private oasis. Top floor w/ 2 decks   \n",
      "\n",
      "                                                   summary  \\\n",
      "train 0  The  Guest Quarters on Capitol Hill is a garde...   \n",
      "      1  Top two floors, two bathrooms and two decks. M...   \n",
      "\n",
      "                                               description  \\\n",
      "train 0  The  Guest Quarters on Capitol Hill is a garde...   \n",
      "      1  Top two floors, two bathrooms and two decks. M...   \n",
      "\n",
      "                                     neighborhood_overview  \\\n",
      "train 0  the convenience and charm of being on Capitol ...   \n",
      "      1  Adams Morgan is the most vibrant part of DC wh...   \n",
      "\n",
      "                                                   transit  host_since  \\\n",
      "train 0  The Red Line and the Blue Line Metros are with...  2013-08-14   \n",
      "      1  There is so many transportation options. Acros...  2012-01-23   \n",
      "\n",
      "                                           host_location  \\\n",
      "train 0  Washington, District of Columbia, United States   \n",
      "      1  Washington, District of Columbia, United States   \n",
      "\n",
      "                                                host_about host_neighbourhood  \\\n",
      "train 0  We are a reservation service for many DC area ...       LeDroit Park   \n",
      "      1  I have lived in DC for that past five years, b...       Adams Morgan   \n",
      "\n",
      "                                       host_verifications  ... zipcode market  \\\n",
      "train 0              ['email', 'phone', 'reviews', 'kba']  ...   20002   D.C.   \n",
      "      1  ['email', 'phone', 'facebook', 'reviews', 'kba']  ...   20009   D.C.   \n",
      "\n",
      "         smart_location country_code        country property_type  \\\n",
      "train 0  Washington, DC           US  United States     Apartment   \n",
      "      1  Washington, DC           US  United States     Apartment   \n",
      "\n",
      "               room_type  bed_type  \\\n",
      "train 0  Entire home/apt  Real Bed   \n",
      "      1  Entire home/apt  Real Bed   \n",
      "\n",
      "                                                 amenities cancellation_policy  \n",
      "train 0                                                 {}              strict  \n",
      "      1  {Internet,\"Wireless Internet\",\"Air Conditionin...              strict  \n",
      "\n",
      "[2 rows x 23 columns]\n"
     ]
    }
   ],
   "source": [
    "print(f\"Object columns:\\n{df.select_dtypes(object).head(2)}\")\n",
    "textual_columns_to_drop = ['name', 'summary', 'description', 'neighborhood_overview', 'transit', 'host_location',\n",
    "                           'host_about', 'city', 'state', 'market', 'country_code', 'country']\n",
    "df.drop(textual_columns_to_drop, axis=1, inplace=True)"
   ]
  },
  {
   "cell_type": "markdown",
   "metadata": {},
   "source": [
    "Now let's check if neighbourhood and location columns do not contain values with slightly different spelling, and will treat these values as one entity if there are any."
   ]
  },
  {
   "cell_type": "code",
   "execution_count": 6,
   "metadata": {},
   "outputs": [
    {
     "name": "stdout",
     "output_type": "stream",
     "text": [
      "Host_neighbourhood column unique values:\n",
      "['16th Street Heights' 'Adams Morgan' 'American University Park'\n",
      " 'Anacostia' 'Astoria' 'Aurora Highlands' 'Ballston/Virginia Square'\n",
      " 'Barney Circle' 'Bedford-Stuyvesant' 'Bellevue' 'Benning'\n",
      " 'Benning Heights' 'Berkley' 'Bloomingdale' 'Brentwood' 'Brickell'\n",
      " 'Brightwood' 'Brookland' 'Buena Vista' 'Burleith' 'Cambridge'\n",
      " 'Capitol Heights, MD' 'Capitol Hill' 'Carver Langston'\n",
      " 'Cathedral Heights' 'Catholic University'\n",
      " 'Central Northeast/Mahaning Heights' 'Chevy Chase' 'Chillum, MD'\n",
      " 'Cleveland Park' 'Clinton Hill' 'Colonial Village' 'Columbia Heights'\n",
      " 'Congress Heights' 'Crestwood' 'Deanwood' 'Douglas Park' 'Douglass'\n",
      " 'Downtown/Penn Quarter' 'Dupont Circle' 'Dupont Park' 'East Corner'\n",
      " 'Eastland Gardens' 'Eckington' 'Edgewood' 'Fairlawn' 'Fenway/Kenmore'\n",
      " 'Foggy Bottom' 'Forest Hills' 'Fort Davis' 'Fort Dupont' 'Fort Lincoln'\n",
      " 'Foxhall' 'Friendship Heights' 'Gallaudet' 'Garfield Heights'\n",
      " 'Gay Village' 'Georgetown' 'Glover Park' 'Gold Coast' 'Good Hope'\n",
      " 'Greenway' 'Harborview' 'Hillcrest' 'Hollywood' 'Ivy City'\n",
      " 'Judiciary Square' 'Kalorama' 'Kent' 'Kingman Park' 'Lamond Riggs'\n",
      " 'Langdon' 'LeDroit Park' 'Lev HaIr' 'Little Italy' 'Logan Circle'\n",
      " 'Manor Park' 'Marigny/Bywater' 'Marshall Heights' 'McLean Gardens'\n",
      " 'Michigan Park' 'Moda' 'Mount Pleasant' 'Mount Vernon Square'\n",
      " 'Mt Rainier/Brentwood, MD' 'Mt. Pleasant' 'Mt. Vernon Square' 'Navy Yard'\n",
      " 'Near Northeast/H Street Corridor' 'North Cleveland Park'\n",
      " 'North Michigan Park' 'North Rosslyn' \"Old Soldiers' Home\" 'Palisades'\n",
      " 'Panthéon' 'Park View' 'Petworth' 'Pleasant Hill' 'Pleasant Plains'\n",
      " 'Queen Anne' 'Randle Highlands' 'Recoletos' 'River Terrace' 'République'\n",
      " 'Santa Monica' 'Shaw' 'Shepherd Park' 'Shipley Terrace'\n",
      " 'Silver Spring, MD' 'Somerville' 'South Beach' 'Southwest Waterfront'\n",
      " 'Spring Valley' 'St. Elizabeths' 'Stronghold' 'Takoma' 'Takoma Park, MD'\n",
      " 'Trinidad' 'Truxton Circle' 'Twining' 'U Street Corridor'\n",
      " 'University City' 'Washington Highlands' 'Wesley Heights' 'West End'\n",
      " 'Williamsburg' 'Woodland' 'Woodley Park' 'Woodridge' 'Zilker']\n",
      "Host_neighbourhood column after processing:\n",
      "['16th Street Heights' 'Adams Morgan' 'American University Park'\n",
      " 'Anacostia' 'Astoria' 'Aurora Highlands' 'Ballston/Virginia Square'\n",
      " 'Barney Circle' 'Bedford-Stuyvesant' 'Bellevue' 'Benning'\n",
      " 'Benning Heights' 'Berkley' 'Bloomingdale' 'Brentwood' 'Brickell'\n",
      " 'Brightwood' 'Brookland' 'Buena Vista' 'Burleith' 'Cambridge'\n",
      " 'Capitol Heights, MD' 'Capitol Hill' 'Carver Langston'\n",
      " 'Cathedral Heights' 'Catholic University'\n",
      " 'Central Northeast/Mahaning Heights' 'Chevy Chase' 'Chillum, MD'\n",
      " 'Cleveland Park' 'Clinton Hill' 'Colonial Village' 'Columbia Heights'\n",
      " 'Congress Heights' 'Crestwood' 'Deanwood' 'Douglas Park' 'Douglass'\n",
      " 'Downtown/Penn Quarter' 'Dupont Circle' 'Dupont Park' 'East Corner'\n",
      " 'Eastland Gardens' 'Eckington' 'Edgewood' 'Fairlawn' 'Fenway/Kenmore'\n",
      " 'Foggy Bottom' 'Forest Hills' 'Fort Davis' 'Fort Dupont' 'Fort Lincoln'\n",
      " 'Foxhall' 'Friendship Heights' 'Gallaudet' 'Garfield Heights'\n",
      " 'Gay Village' 'Georgetown' 'Glover Park' 'Gold Coast' 'Good Hope'\n",
      " 'Greenway' 'Harborview' 'Hillcrest' 'Hollywood' 'Ivy City'\n",
      " 'Judiciary Square' 'Kalorama' 'Kent' 'Kingman Park' 'Lamond Riggs'\n",
      " 'Langdon' 'LeDroit Park' 'Lev HaIr' 'Little Italy' 'Logan Circle'\n",
      " 'Manor Park' 'Marigny/Bywater' 'Marshall Heights' 'McLean Gardens'\n",
      " 'Michigan Park' 'Moda' 'Mount Pleasant' 'Mount Vernon Square'\n",
      " 'Mt Rainier/Brentwood, MD' 'Mt. Vernon Square' 'Navy Yard'\n",
      " 'Near Northeast/H Street Corridor' 'North Cleveland Park'\n",
      " 'North Michigan Park' 'North Rosslyn' \"Old Soldiers' Home\" 'Palisades'\n",
      " 'Panthéon' 'Park View' 'Petworth' 'Pleasant Hill' 'Pleasant Plains'\n",
      " 'Queen Anne' 'Randle Highlands' 'Recoletos' 'River Terrace' 'République'\n",
      " 'Santa Monica' 'Shaw' 'Shepherd Park' 'Shipley Terrace'\n",
      " 'Silver Spring, MD' 'Somerville' 'South Beach' 'Southwest Waterfront'\n",
      " 'Spring Valley' 'St. Elizabeths' 'Stronghold' 'Takoma' 'Takoma Park, MD'\n",
      " 'Trinidad' 'Truxton Circle' 'Twining' 'U Street Corridor'\n",
      " 'University City' 'Washington Highlands' 'Wesley Heights' 'West End'\n",
      " 'Williamsburg' 'Woodland' 'Woodley Park' 'Woodridge' 'Zilker']\n",
      "Neighbourhood_cleansed column unique values:\n",
      "['Brightwood Park, Crestwood, Petworth' 'Brookland, Brentwood, Langdon'\n",
      " 'Capitol Hill, Lincoln Park'\n",
      " 'Capitol View, Marshall Heights, Benning Heights'\n",
      " 'Cathedral Heights, McLean Gardens, Glover Park'\n",
      " 'Cleveland Park, Woodley Park, Massachusetts Avenue Heights, Woodland-Normanstone Terrace'\n",
      " 'Colonial Village, Shepherd Park, North Portal Estates'\n",
      " 'Columbia Heights, Mt. Pleasant, Pleasant Plains, Park View'\n",
      " 'Congress Heights, Bellevue, Washington Highlands'\n",
      " 'Deanwood, Burrville, Grant Park, Lincoln Heights, Fairmont Heights'\n",
      " 'Douglas, Shipley Terrace'\n",
      " 'Downtown, Chinatown, Penn Quarters, Mount Vernon Square, North Capitol Street'\n",
      " 'Dupont Circle, Connecticut Avenue/K Street'\n",
      " 'Eastland Gardens, Kenilworth'\n",
      " 'Edgewood, Bloomingdale, Truxton Circle, Eckington'\n",
      " 'Fairfax Village, Naylor Gardens, Hillcrest, Summit Park'\n",
      " 'Friendship Heights, American University Park, Tenleytown'\n",
      " 'Georgetown, Burleith/Hillandale' 'Hawthorne, Barnaby Woods, Chevy Chase'\n",
      " 'Historic Anacostia' 'Howard University, Le Droit Park, Cardozo/Shaw'\n",
      " 'Ivy City, Arboretum, Trinidad, Carver Langston'\n",
      " 'Kalorama Heights, Adams Morgan, Lanier Heights'\n",
      " 'Lamont Riggs, Queens Chapel, Fort Totten, Pleasant Hill'\n",
      " 'Mayfair, Hillbrook, Mahaning Heights' 'Near Southeast, Navy Yard'\n",
      " 'North Cleveland Park, Forest Hills, Van Ness'\n",
      " 'North Michigan Park, Michigan Park, University Heights'\n",
      " 'River Terrace, Benning, Greenway, Dupont Park' 'Shaw, Logan Circle'\n",
      " 'Sheridan, Barry Farm, Buena Vista'\n",
      " 'Southwest Employment Area, Southwest/Waterfront, Fort McNair, Buzzard Point'\n",
      " 'Spring Valley, Palisades, Wesley Heights, Foxhall Crescent, Foxhall Village, Georgetown Reservoir'\n",
      " 'Takoma, Brightwood, Manor Park'\n",
      " 'Twining, Fairlawn, Randle Highlands, Penn Branch, Fort Davis Park, Fort Dupont'\n",
      " 'Union Station, Stanton Park, Kingman Park' 'West End, Foggy Bottom, GWU'\n",
      " 'Woodland/Fort Stanton, Garfield Heights, Knox Hill'\n",
      " 'Woodridge, Fort Lincoln, Gateway']\n",
      "Smart_location column unique values:\n",
      "['Adams Morgan, Washington DC' 'Annapolis, MD' 'Arlington, VA'\n",
      " 'Capitol Heights, MD' 'Capitol Hill, Washington, DC'\n",
      " 'Columbia Heights, middle of DC!, DC' 'Dupont Circle, DC'\n",
      " 'Hyattsville, MD' 'Mount Rainier, MD' 'New York, NY' 'Silver Spring, MD'\n",
      " 'Takoma Park, MD' 'Washington , DC' 'Washington, D.C., DC'\n",
      " 'Washington, DC' 'chevy chase, MD']\n",
      "Smart_location column after processing:\n",
      "['Adams Morgan, Washington DC' 'Annapolis, MD' 'Arlington, VA'\n",
      " 'Capitol Heights, MD' 'Capitol Hill, Washington, DC'\n",
      " 'Columbia Heights, middle of DC!, DC' 'Dupont Circle, DC'\n",
      " 'Hyattsville, MD' 'Mount Rainier, MD' 'New York, NY' 'Silver Spring, MD'\n",
      " 'Takoma Park, MD' 'Washington, DC' 'chevy chase, MD']\n"
     ]
    }
   ],
   "source": [
    "# Check if host_neighbourhood do not contain values with slightly different spelling\n",
    "host_neighbourhood_unique = df['host_neighbourhood'].dropna().unique()\n",
    "host_neighbourhood_unique.sort()\n",
    "print(f\"Host_neighbourhood column unique values:\\n{host_neighbourhood_unique}\")\n",
    "\n",
    "# As we can see Mount Pleasant and Mt. Pleasant is the same entity, so we replace Mt. Pleasant\n",
    "df['host_neighbourhood'] = df['host_neighbourhood'].apply(lambda x: 'Mount Pleasant' if x == 'Mt. Pleasant' else x)\n",
    "host_neighbourhood_unique = df['host_neighbourhood'].dropna().unique()\n",
    "host_neighbourhood_unique.sort()\n",
    "print(f\"Host_neighbourhood column after processing:\\n{host_neighbourhood_unique}\")\n",
    "\n",
    "# Check if neighbourhood_cleansed do not contain values with slightly different spelling\n",
    "neighbourhood_cleansed_unique = df['neighbourhood_cleansed'].unique()\n",
    "neighbourhood_cleansed_unique.sort()\n",
    "print(f\"Neighbourhood_cleansed column unique values:\\n{neighbourhood_cleansed_unique}\")\n",
    "\n",
    "# Check if smart_location do not contain values with slightly different spelling\n",
    "smart_location_unique = df['smart_location'].unique()\n",
    "smart_location_unique.sort()\n",
    "print(f\"Smart_location column unique values:\\n{smart_location_unique}\")\n",
    "\n",
    "# As we can see, there are three different spelling of 'Washington, DC', replace them with one\n",
    "df['smart_location'] = df['smart_location'].apply(lambda x: 'Washington, DC' if x in ('Washington, D.C., DC',\n",
    "                                                                                      'Washington , DC') else x)\n",
    "smart_location_unique = df['smart_location'].unique()\n",
    "smart_location_unique.sort()\n",
    "print(f\"Smart_location column after processing:\\n{smart_location_unique}\")"
   ]
  },
  {
   "cell_type": "markdown",
   "metadata": {},
   "source": [
    "Let's count locations. As we can see, there are a number of locations with small row counts. We will drop them."
   ]
  },
  {
   "cell_type": "code",
   "execution_count": 7,
   "metadata": {},
   "outputs": [
    {
     "name": "stdout",
     "output_type": "stream",
     "text": [
      "Counting locations: \n",
      "Washington, DC                         3601\n",
      "Silver Spring, MD                         8\n",
      "Takoma Park, MD                           6\n",
      "Mount Rainier, MD                         5\n",
      "Hyattsville, MD                           2\n",
      "New York, NY                              1\n",
      "Columbia Heights, middle of DC!, DC       1\n",
      "Arlington, VA                             1\n",
      "Dupont Circle, DC                         1\n",
      "Capitol Heights, MD                       1\n",
      "chevy chase, MD                           1\n",
      "Adams Morgan, Washington DC               1\n",
      "Capitol Hill, Washington, DC              1\n",
      "Annapolis, MD                             1\n",
      "Name: smart_location, dtype: int64\n",
      "Smart_location after dropping loctions with small row counts: \n",
      "Washington, DC    3601\n",
      "Name: smart_location, dtype: int64\n"
     ]
    }
   ],
   "source": [
    "print(f\"Counting locations: \\n{df['smart_location'].value_counts()}\")\n",
    "df.drop(df[df['smart_location'] != 'Washington, DC'].index, inplace=True)\n",
    "print(f\"Smart_location after dropping loctions with small row counts: \\n{df['smart_location'].value_counts()}\")\n",
    "# When only one location left, we can drop entire column\n",
    "df.drop('smart_location', axis=1, inplace=True)"
   ]
  },
  {
   "cell_type": "markdown",
   "metadata": {},
   "source": [
    "Checking the rest columns"
   ]
  },
  {
   "cell_type": "code",
   "execution_count": 8,
   "metadata": {},
   "outputs": [
    {
     "name": "stdout",
     "output_type": "stream",
     "text": [
      "Property_type column unique values:\n",
      "['Apartment' 'House' 'Townhouse' 'Bed & Breakfast' 'Condominium' 'Cabin'\n",
      " 'Other' 'Loft' 'Boat' 'Dorm' nan 'Bungalow']\n",
      "Room_type column unique values:\n",
      "['Entire home/apt' 'Private room' 'Shared room']\n",
      "Bed_type column unique values:\n",
      "['Real Bed' 'Pull-out Sofa' 'Futon' 'Couch' 'Airbed']\n"
     ]
    }
   ],
   "source": [
    "# Check if property_type do not contain values with slightly different spelling\n",
    "print(f\"Property_type column unique values:\\n{df['property_type'].unique()}\")\n",
    "# Check if room_type do not contain values with slightly different spelling\n",
    "print(f\"Room_type column unique values:\\n{df['room_type'].unique()}\")\n",
    "# Check if bed_type do not contain values with slightly different spelling\n",
    "print(f\"Bed_type column unique values:\\n{df['bed_type'].unique()}\")"
   ]
  },
  {
   "cell_type": "markdown",
   "metadata": {},
   "source": [
    "Now we will process amenities column"
   ]
  },
  {
   "cell_type": "code",
   "execution_count": 9,
   "metadata": {},
   "outputs": [
    {
     "name": "stdout",
     "output_type": "stream",
     "text": [
      "Counting amenities:\n",
      "Counter({'Air Conditioning': 3450, 'Heating': 3427, 'Wireless Internet': 3411, 'Kitchen': 3323, 'Washer': 2932, 'Dryer': 2904, 'Smoke Detector': 2879, 'Internet': 2848, 'Essentials': 2769, 'TV': 2716, 'Shampoo': 1917, 'Cable TV': 1852, 'Fire Extinguisher': 1804, 'Family/Kid Friendly': 1727, 'Carbon Monoxide Detector': 1612, 'First Aid Kit': 1143, 'Free Parking on Premises': 1068, 'Elevator in Building': 1007, 'Pets live on this property': 593, 'Gym': 590, 'Buzzer/Wireless Intercom': 493, 'Indoor Fireplace': 491, 'Safety Card': 486, 'Pets Allowed': 453, 'Doorman': 419, 'Dog(s)': 412, 'Wheelchair Accessible': 339, 'Pool': 320, 'Breakfast': 267, 'Cat(s)': 224, 'Suitable for Events': 206, 'Hot Tub': 169, 'Smoking Allowed': 85, '': 55, 'Other pet(s)': 16, 'Washer / Dryer': 4})\n"
     ]
    }
   ],
   "source": [
    "amenities = [amenity.strip('\\\"') for record in df['amenities'] for amenity in record[1:-1].split(',')]\n",
    "print(f\"Counting amenities:\\n{Counter(amenities)}\")"
   ]
  },
  {
   "cell_type": "markdown",
   "metadata": {},
   "source": [
    "We have 3601 rows in our dataset, as we can see, such amenities as 'Air Conditioning': 3450, 'Heating': 3427,\n",
    "'Wireless Internet': 3411, 'Kitchen': 3323 are presented in almost every apartment, so we are interested in more\n",
    "distinctive features like 'Shampoo', 'Family/Kid Friendly', 'Carbon Monoxide Detector', 'Free Parking on Premises',\n",
    "'Elevator in Building', 'Gym', 'Pets Allowed', 'Wheelchair Accessible', 'Breakfast', 'Pool', 'Smoking Allowed'.\n",
    "So now we are going to create new features for amenities and one feature for amenities_count."
   ]
  },
  {
   "cell_type": "code",
   "execution_count": 10,
   "metadata": {},
   "outputs": [
    {
     "name": "stdout",
     "output_type": "stream",
     "text": [
      "New columns from amenities list:\n",
      "         shampoo  family/kid friendly  carbon monoxide detector  \\\n",
      "train 0        0                    0                         0   \n",
      "      1        1                    1                         1   \n",
      "      2        0                    1                         0   \n",
      "      3        1                    1                         0   \n",
      "      4        0                    0                         0   \n",
      "\n",
      "         free parking on premises  breakfast  elevator in building  gym  \\\n",
      "train 0                         0          0                     0    0   \n",
      "      1                         0          0                     0    0   \n",
      "      2                         0          0                     0    0   \n",
      "      3                         0          0                     0    0   \n",
      "      4                         0          0                     0    0   \n",
      "\n",
      "         pets allowed  wheelchair accessible  pool  smoking allowed  \\\n",
      "train 0             0                      0     0                0   \n",
      "      1             0                      0     0                0   \n",
      "      2             0                      0     0                0   \n",
      "      3             0                      0     0                0   \n",
      "      4             0                      0     0                0   \n",
      "\n",
      "         amenities_count  \n",
      "train 0                1  \n",
      "      1               14  \n",
      "      2                9  \n",
      "      3               12  \n",
      "      4               11  \n"
     ]
    }
   ],
   "source": [
    "amenities = ['Shampoo', 'Family/Kid Friendly', 'Carbon Monoxide Detector', 'Free Parking on Premises', 'Breakfast',\n",
    "             'Elevator in Building', 'Gym', 'Pets Allowed', 'Wheelchair Accessible', 'Pool', 'Smoking Allowed']\n",
    "for amenity in amenities:\n",
    "    df[amenity.lower()] = df['amenities'].apply(lambda x: int(amenity in x))\n",
    "df['amenities_count'] = df.amenities.apply(lambda x: len(str(x)[1:].split(',')))\n",
    "df.drop('amenities', axis=1, inplace=True)\n",
    "print(f\"New columns from amenities list:\\n{df.loc[:, 'shampoo':'amenities_count'].head()}\")"
   ]
  },
  {
   "cell_type": "markdown",
   "metadata": {},
   "source": [
    "Now let's look at host_since column. We can treat these values as host experience, so we can calculate difference\n",
    "between today date and host_since date and save it as number."
   ]
  },
  {
   "cell_type": "code",
   "execution_count": 11,
   "metadata": {},
   "outputs": [
    {
     "name": "stdout",
     "output_type": "stream",
     "text": [
      "Null data: 0\n",
      "Host experience column:\n",
      "train  0    2535\n",
      "       1    3104\n",
      "Name: host_experience, dtype: int64\n"
     ]
    }
   ],
   "source": [
    "print(f\"Null data: {df['host_since'].isna().sum()}\")\n",
    "df['host_experience'] = df['host_since'].apply(lambda x: int(str(date.today() - date.fromisoformat(x)).split(' ')[0]))\n",
    "df.drop('host_since', axis=1, inplace=True)\n",
    "print(f\"Host experience column:\\n{df['host_experience'].head(2)}\")"
   ]
  },
  {
   "cell_type": "markdown",
   "metadata": {},
   "source": [
    "We will count the number of host verifications methods and save it as host_verifications_count column."
   ]
  },
  {
   "cell_type": "code",
   "execution_count": 12,
   "metadata": {},
   "outputs": [
    {
     "name": "stdout",
     "output_type": "stream",
     "text": [
      "Host verifications count column:\n",
      "train  0    4\n",
      "       1    5\n",
      "Name: host_verifications_count, dtype: int64\n"
     ]
    }
   ],
   "source": [
    "df['host_verifications_count'] = df['host_verifications'].apply(lambda x: len(x.split(', ')))\n",
    "df.drop('host_verifications', axis=1, inplace=True)\n",
    "print(f\"Host verifications count column:\\n{df['host_verifications_count'].head(2)}\")"
   ]
  },
  {
   "cell_type": "markdown",
   "metadata": {},
   "source": [
    "## Dealing with missing values"
   ]
  },
  {
   "cell_type": "code",
   "execution_count": 13,
   "metadata": {},
   "outputs": [
    {
     "name": "stdout",
     "output_type": "stream",
     "text": [
      "Missing values count for the whole dataset:\n",
      "cleaning_fee                   1344\n",
      "review_scores_checkin           849\n",
      "review_scores_cleanliness       849\n",
      "review_scores_accuracy          848\n",
      "review_scores_communication     845\n",
      "review_scores_location          845\n",
      "review_scores_value             845\n",
      "review_scores_rating            841\n",
      "reviews_per_month               804\n",
      "price                           612\n",
      "host_neighbourhood              250\n",
      "bathrooms                        25\n",
      "bedrooms                         15\n",
      "beds                             10\n",
      "zipcode                           9\n",
      "property_type                     1\n",
      "accommodates                      0\n",
      "neighbourhood_cleansed            0\n",
      "host_acceptance_rate              0\n",
      "maximum_nights                    0\n",
      "dtype: int64\n"
     ]
    }
   ],
   "source": [
    "print(f\"Missing values count for the whole dataset:\\n{df.isnull().sum().sort_values(ascending=False).head(20)}\")"
   ]
  },
  {
   "cell_type": "markdown",
   "metadata": {},
   "source": [
    "Columns bathrooms, bedrooms, beds, zipcode, property_type contain small number of nan values, so we can just drop these rows"
   ]
  },
  {
   "cell_type": "code",
   "execution_count": 15,
   "metadata": {},
   "outputs": [
    {
     "name": "stdout",
     "output_type": "stream",
     "text": [
      "cleaning_fee                   1322\n",
      "review_scores_checkin           831\n",
      "review_scores_cleanliness       831\n",
      "review_scores_accuracy          830\n",
      "review_scores_communication     827\n",
      "review_scores_location          827\n",
      "review_scores_value             827\n",
      "review_scores_rating            824\n",
      "reviews_per_month               788\n",
      "price                           607\n",
      "host_neighbourhood              244\n",
      "accommodates                      0\n",
      "property_type                     0\n",
      "host_acceptance_rate              0\n",
      "maximum_nights                    0\n",
      "neighbourhood_cleansed            0\n",
      "zipcode                           0\n",
      "guests_included                   0\n",
      "minimum_nights                    0\n",
      "bathrooms                         0\n",
      "dtype: int64\n"
     ]
    }
   ],
   "source": [
    "df.dropna(axis=0, how='any', subset=['bathrooms', 'bedrooms', 'beds', 'zipcode', 'property_type'], inplace=True)\n",
    "print(df.isnull().sum().sort_values(ascending=False).head(20))"
   ]
  },
  {
   "cell_type": "markdown",
   "metadata": {},
   "source": [
    "As we can see, there are 800+ rows that does not contain review scores, we will make one-hot encoding for review_scores_rating with special column for 'no reviews', while dropping other review scores columns. We will also fill nan with 0 for reviews_per_month column."
   ]
  },
  {
   "cell_type": "code",
   "execution_count": 16,
   "metadata": {},
   "outputs": [
    {
     "data": {
      "image/png": "[encoded data removed]",
      "text/plain": [
       "<Figure size 432x288 with 1 Axes>"
      ]
     },
     "metadata": {
      "needs_background": "light"
     },
     "output_type": "display_data"
    }
   ],
   "source": [
    "plt.hist(df['review_scores_rating'][~df['review_scores_rating'].isnull()])\n",
    "plt.title(\"Histogram of Review Scores Ratings\")\n",
    "plt.xlabel(\"Review Score\")\n",
    "plt.ylabel(\"Frequency\")\n",
    "plt.show()"
   ]
  },
  {
   "cell_type": "code",
   "execution_count": 17,
   "metadata": {},
   "outputs": [
    {
     "name": "stdout",
     "output_type": "stream",
     "text": [
      "Counting different scores in review_scores_rating column:\n",
      " 100.0    747\n",
      "99.0      87\n",
      "98.0     162\n",
      "97.0     180\n",
      "96.0     178\n",
      "95.0     191\n",
      "94.0     111\n",
      "93.0     182\n",
      "92.0      97\n",
      "91.0      75\n",
      "90.0     160\n",
      "89.0      49\n",
      "88.0      60\n",
      "87.0      61\n",
      "86.0      32\n",
      "Name: review_scores_rating, dtype: int64\n",
      "One-hot encoded review rating columns:\n",
      "         review rating: 0-44  review rating: 45-59  review rating: 60-69  \\\n",
      "train 0                    0                     0                     0   \n",
      "      1                    0                     0                     0   \n",
      "      2                    0                     0                     0   \n",
      "      3                    0                     0                     0   \n",
      "      4                    0                     0                     0   \n",
      "\n",
      "         review rating: 70-75  review rating: 76-82  review rating: 83-84  \\\n",
      "train 0                     0                     0                     0   \n",
      "      1                     0                     0                     0   \n",
      "      2                     0                     0                     1   \n",
      "      3                     0                     0                     1   \n",
      "      4                     0                     0                     0   \n",
      "\n",
      "         review rating: 85-86  review rating: 87-88  review rating: 89-90  \\\n",
      "train 0                     0                     0                     1   \n",
      "      1                     0                     0                     1   \n",
      "      2                     0                     0                     0   \n",
      "      3                     0                     0                     0   \n",
      "      4                     0                     0                     1   \n",
      "\n",
      "         review rating: 91-92  review rating: 93-94  review rating: 95-96  \\\n",
      "train 0                     0                     0                     0   \n",
      "      1                     0                     0                     0   \n",
      "      2                     0                     0                     0   \n",
      "      3                     0                     0                     0   \n",
      "      4                     0                     0                     0   \n",
      "\n",
      "         review rating: 97-98  review rating: 99-100  review rating: no rating  \n",
      "train 0                     0                      0                         0  \n",
      "      1                     0                      0                         0  \n",
      "      2                     0                      0                         0  \n",
      "      3                     0                      0                         0  \n",
      "      4                     0                      0                         0  \n"
     ]
    }
   ],
   "source": [
    "print(\"Counting different scores in review_scores_rating column:\\n\",\n",
    "      df['review_scores_rating'].value_counts().sort_index(ascending=False).head(15))\n",
    "df['reviews_per_month'] = df['reviews_per_month'].fillna(0)\n",
    "df['review_scores_rating'] = df['review_scores_rating'].fillna('no rating')\n",
    "\n",
    "\n",
    "def group_review_scores(score):\n",
    "    if score == 'no rating':\n",
    "        return 'no rating'\n",
    "    elif score > 98:\n",
    "        return '99-100'\n",
    "    elif score > 96:\n",
    "        return '97-98'\n",
    "    elif score > 94:\n",
    "        return '95-96'\n",
    "    elif score > 92:\n",
    "        return '93-94'\n",
    "    elif score > 90:\n",
    "        return '91-92'\n",
    "    elif score > 88:\n",
    "        return '89-90'\n",
    "    elif score > 86:\n",
    "        return '87-88'\n",
    "    elif score > 84:\n",
    "        return '85-86'\n",
    "    elif score > 82:\n",
    "        return '83-84'\n",
    "    elif score > 75:\n",
    "        return '76-82'\n",
    "    elif score > 69:\n",
    "        return '70-75'\n",
    "    elif score > 59:\n",
    "        return '60-69'\n",
    "    elif score > 44:\n",
    "        return '45-59'\n",
    "    elif score > 0:\n",
    "        return '0-44'\n",
    "\n",
    "\n",
    "df['review_scores_rating'] = df['review_scores_rating'].apply(group_review_scores)\n",
    "one_hot_review = pd.get_dummies(df['review_scores_rating'], prefix='review rating:', prefix_sep=\" \")\n",
    "df = df.join(one_hot_review)\n",
    "review_columns_to_drop = ['review_scores_rating', 'review_scores_accuracy', 'review_scores_cleanliness',\n",
    "                          'review_scores_checkin', 'review_scores_communication', 'review_scores_location',\n",
    "                          'review_scores_value']\n",
    "df.drop(review_columns_to_drop, axis=1, inplace=True)\n",
    "print(f\"One-hot encoded review rating columns:\\n{df.loc[:, 'review rating: 0-44':].head(5)}\")\n"
   ]
  },
  {
   "cell_type": "markdown",
   "metadata": {},
   "source": [
    "Let's look at price and cleaning fee columns. We will drop outliers and explore correlation between them"
   ]
  },
  {
   "cell_type": "code",
   "execution_count": 18,
   "metadata": {},
   "outputs": [
    {
     "name": "stdout",
     "output_type": "stream",
     "text": [
      "Price frequency:\n",
      "2822.0    1\n",
      "2000.0    3\n",
      "1500.0    1\n",
      "1400.0    1\n",
      "1300.0    1\n",
      "Name: price, dtype: int64\n",
      "Price frequency after dropping top values:\n",
      "1500.0    1\n",
      "1400.0    1\n",
      "1300.0    1\n",
      "1250.0    2\n",
      "1200.0    4\n",
      "Name: price, dtype: int64\n",
      "Cleaning fee frequency:\n",
      "400.0    1\n",
      "300.0    7\n",
      "258.0    1\n",
      "250.0    4\n",
      "240.0    1\n",
      "Name: cleaning_fee, dtype: int64\n"
     ]
    },
    {
     "data": {
      "image/png": "[encoded data removed]",
      "text/plain": [
       "<Figure size 432x288 with 1 Axes>"
      ]
     },
     "metadata": {
      "needs_background": "light"
     },
     "output_type": "display_data"
    }
   ],
   "source": [
    "print(f\"Price frequency:\\n{df['price'].value_counts().sort_index(ascending=False).head()}\")\n",
    "df.drop(df[df['price'] > 1500].index, inplace=True)\n",
    "print(f\"Price frequency after dropping top values:\\n{df['price'].value_counts().sort_index(ascending=False).head()}\")\n",
    "print(f\"Cleaning fee frequency:\\n{df['cleaning_fee'].value_counts().sort_index(ascending=False).head()}\")\n",
    "plt.title(\"Cleaning fee vs price\")\n",
    "sns.lineplot(x='price', y='cleaning_fee', data=df[['price', 'cleaning_fee']])\n",
    "plt.xlabel('Price', fontsize=11)\n",
    "plt.ylabel('Cleaning fee', fontsize=11)\n",
    "plt.show()"
   ]
  },
  {
   "cell_type": "markdown",
   "metadata": {},
   "source": [
    "As we can see, the correlation between cleaning fee and the price in non-linear, with many outliers. So we will interpolate cleaning fee curve in order to fill its missing values."
   ]
  },
  {
   "cell_type": "code",
   "execution_count": 19,
   "metadata": {},
   "outputs": [
    {
     "data": {
      "image/png": "[encoded data removed]",
      "text/plain": [
       "<Figure size 432x288 with 1 Axes>"
      ]
     },
     "metadata": {
      "needs_background": "light"
     },
     "output_type": "display_data"
    },
    {
     "data": {
      "image/png": "[encoded data removed]",
      "text/plain": [
       "<Figure size 432x288 with 1 Axes>"
      ]
     },
     "metadata": {
      "needs_background": "light"
     },
     "output_type": "display_data"
    },
    {
     "name": "stdout",
     "output_type": "stream",
     "text": [
      "Left missing values :\n",
      "price                       607\n",
      "host_neighbourhood          244\n",
      "review rating: no rating      0\n",
      "shampoo                       0\n",
      "reviews_per_month             0\n",
      "dtype: int64\n"
     ]
    }
   ],
   "source": [
    "plt.title(\"Cleaning fee with missing values\")\n",
    "df['cleaning_fee'].plot().set_xlim(0, 100)\n",
    "plt.xlabel('Cleaning fee', fontsize=11)\n",
    "plt.show()\n",
    "\n",
    "plt.title(\"Interpolated cleaning fee\")\n",
    "df['cleaning_fee'].interpolate().plot().set_xlim(0, 100)\n",
    "plt.xlabel('Cleaning fee', fontsize=11)\n",
    "plt.show()\n",
    "\n",
    "df['cleaning_fee'] = df['cleaning_fee'].interpolate()\n",
    "df.dropna(axis=0, how='any', subset=['cleaning_fee'], inplace=True)\n",
    "print(f\"Left missing values :\\n{df.isnull().sum().sort_values(ascending=False).head()}\")"
   ]
  },
  {
   "cell_type": "markdown",
   "metadata": {},
   "source": [
    "Finally we will drop nan host_neighbourhood values"
   ]
  },
  {
   "cell_type": "code",
   "execution_count": 20,
   "metadata": {},
   "outputs": [
    {
     "name": "stdout",
     "output_type": "stream",
     "text": [
      "Left missing values :\n",
      "price                             564\n",
      "review rating: no rating            0\n",
      "shampoo                             0\n",
      "reviews_per_month                   0\n",
      "calculated_host_listings_count      0\n",
      "dtype: int64\n"
     ]
    }
   ],
   "source": [
    "df.dropna(axis=0, how='any', subset=['host_neighbourhood'], inplace=True)\n",
    "print(f\"Left missing values :\\n{df.isnull().sum().sort_values(ascending=False).head()}\")"
   ]
  },
  {
   "cell_type": "markdown",
   "metadata": {},
   "source": [
    "Before proceeding, we have to convert categorical columns"
   ]
  },
  {
   "cell_type": "code",
   "execution_count": 21,
   "metadata": {},
   "outputs": [
    {
     "name": "stdout",
     "output_type": "stream",
     "text": [
      "Final shape of dataset: (3298, 51)\n",
      "         host_response_rate  host_acceptance_rate  host_neighbourhood  \\\n",
      "train 1                1.00                  1.00                   1   \n",
      "      2                0.97                  1.00                   8   \n",
      "      3                0.92                  1.00                 102   \n",
      "      4                1.00                  0.75                  92   \n",
      "      5                1.00                  1.00                 109   \n",
      "\n",
      "         neighbourhood_cleansed  zipcode  property_type  room_type  \\\n",
      "train 1                      22       12              0          0   \n",
      "      2                      29        0              0          0   \n",
      "      3                      29        0              0          0   \n",
      "      4                       7        0              6          1   \n",
      "      5                      37       21              6          1   \n",
      "\n",
      "         accommodates  bathrooms  bedrooms  ...  review rating: 83-84  \\\n",
      "train 1             2        1.5       1.0  ...                     0   \n",
      "      2             6        1.0       2.0  ...                     1   \n",
      "      3             3        1.0       0.0  ...                     1   \n",
      "      4             2        1.0       1.0  ...                     0   \n",
      "      5             1        1.0       1.0  ...                     0   \n",
      "\n",
      "         review rating: 85-86  review rating: 87-88  review rating: 89-90  \\\n",
      "train 1                     0                     0                     1   \n",
      "      2                     0                     0                     0   \n",
      "      3                     0                     0                     0   \n",
      "      4                     0                     0                     1   \n",
      "      5                     0                     0                     0   \n",
      "\n",
      "         review rating: 91-92  review rating: 93-94  review rating: 95-96  \\\n",
      "train 1                     0                     0                     0   \n",
      "      2                     0                     0                     0   \n",
      "      3                     0                     0                     0   \n",
      "      4                     0                     0                     0   \n",
      "      5                     0                     0                     0   \n",
      "\n",
      "         review rating: 97-98  review rating: 99-100  review rating: no rating  \n",
      "train 1                     0                      0                         0  \n",
      "      2                     0                      0                         0  \n",
      "      3                     0                      0                         0  \n",
      "      4                     0                      0                         0  \n",
      "      5                     0                      1                         0  \n",
      "\n",
      "[5 rows x 51 columns]\n",
      "<class 'pandas.core.frame.DataFrame'>\n",
      "MultiIndex: 3298 entries, ('train', 1) to ('submission', 617)\n",
      "Data columns (total 51 columns):\n",
      " #   Column                          Non-Null Count  Dtype  \n",
      "---  ------                          --------------  -----  \n",
      " 0   host_response_rate              3298 non-null   float64\n",
      " 1   host_acceptance_rate            3298 non-null   float64\n",
      " 2   host_neighbourhood              3298 non-null   int8   \n",
      " 3   neighbourhood_cleansed          3298 non-null   int8   \n",
      " 4   zipcode                         3298 non-null   int8   \n",
      " 5   property_type                   3298 non-null   int8   \n",
      " 6   room_type                       3298 non-null   int8   \n",
      " 7   accommodates                    3298 non-null   int64  \n",
      " 8   bathrooms                       3298 non-null   float64\n",
      " 9   bedrooms                        3298 non-null   float64\n",
      " 10  beds                            3298 non-null   float64\n",
      " 11  bed_type                        3298 non-null   int8   \n",
      " 12  price                           2734 non-null   float64\n",
      " 13  cleaning_fee                    3298 non-null   float64\n",
      " 14  guests_included                 3298 non-null   int64  \n",
      " 15  minimum_nights                  3298 non-null   int64  \n",
      " 16  maximum_nights                  3298 non-null   int64  \n",
      " 17  number_of_reviews               3298 non-null   int64  \n",
      " 18  instant_bookable                3298 non-null   int64  \n",
      " 19  cancellation_policy             3298 non-null   int8   \n",
      " 20  calculated_host_listings_count  3298 non-null   int64  \n",
      " 21  reviews_per_month               3298 non-null   float64\n",
      " 22  shampoo                         3298 non-null   int64  \n",
      " 23  family/kid friendly             3298 non-null   int64  \n",
      " 24  carbon monoxide detector        3298 non-null   int64  \n",
      " 25  free parking on premises        3298 non-null   int64  \n",
      " 26  breakfast                       3298 non-null   int64  \n",
      " 27  elevator in building            3298 non-null   int64  \n",
      " 28  gym                             3298 non-null   int64  \n",
      " 29  pets allowed                    3298 non-null   int64  \n",
      " 30  wheelchair accessible           3298 non-null   int64  \n",
      " 31  pool                            3298 non-null   int64  \n",
      " 32  smoking allowed                 3298 non-null   int64  \n",
      " 33  amenities_count                 3298 non-null   int64  \n",
      " 34  host_experience                 3298 non-null   int64  \n",
      " 35  host_verifications_count        3298 non-null   int64  \n",
      " 36  review rating: 0-44             3298 non-null   uint8  \n",
      " 37  review rating: 45-59            3298 non-null   uint8  \n",
      " 38  review rating: 60-69            3298 non-null   uint8  \n",
      " 39  review rating: 70-75            3298 non-null   uint8  \n",
      " 40  review rating: 76-82            3298 non-null   uint8  \n",
      " 41  review rating: 83-84            3298 non-null   uint8  \n",
      " 42  review rating: 85-86            3298 non-null   uint8  \n",
      " 43  review rating: 87-88            3298 non-null   uint8  \n",
      " 44  review rating: 89-90            3298 non-null   uint8  \n",
      " 45  review rating: 91-92            3298 non-null   uint8  \n",
      " 46  review rating: 93-94            3298 non-null   uint8  \n",
      " 47  review rating: 95-96            3298 non-null   uint8  \n",
      " 48  review rating: 97-98            3298 non-null   uint8  \n",
      " 49  review rating: 99-100           3298 non-null   uint8  \n",
      " 50  review rating: no rating        3298 non-null   uint8  \n",
      "dtypes: float64(8), int64(21), int8(7), uint8(15)\n",
      "memory usage: 851.3+ KB\n",
      "None\n"
     ]
    }
   ],
   "source": [
    "for column in ['host_neighbourhood', 'neighbourhood_cleansed', 'zipcode', 'property_type',\n",
    "               'room_type', 'bed_type', 'cancellation_policy']:\n",
    "    df[column] = df[column].astype('category')\n",
    "    df[column] = df[column].cat.codes\n",
    "print(f\"Final shape of dataset: {df.shape}\")\n",
    "print(df.head())\n",
    "print(df.info())"
   ]
  },
  {
   "cell_type": "markdown",
   "metadata": {},
   "source": [
    "## Building regressor"
   ]
  },
  {
   "cell_type": "markdown",
   "metadata": {},
   "source": [
    "Split dataset to train and test"
   ]
  },
  {
   "cell_type": "code",
   "execution_count": 22,
   "metadata": {},
   "outputs": [
    {
     "name": "stdout",
     "output_type": "stream",
     "text": [
      "Train dataset shape: ((2187, 50), (2187,))\n",
      "Test dataset shape: ((547, 50), (547,))\n"
     ]
    }
   ],
   "source": [
    "y = df['price'].loc['train']\n",
    "X = df.drop(['price'], axis=1).loc['train']\n",
    "X_train, X_test, y_train, y_test = train_test_split(X, y, test_size=0.2, random_state=42)\n",
    "print(f\"Train dataset shape: {X_train.shape, y_train.shape}\")\n",
    "print(f\"Test dataset shape: {X_test.shape, y_test.shape}\")"
   ]
  },
  {
   "cell_type": "markdown",
   "metadata": {},
   "source": [
    "We are going to try different models and compare their R2 scores"
   ]
  },
  {
   "cell_type": "code",
   "execution_count": 23,
   "metadata": {},
   "outputs": [
    {
     "data": {
      "image/png": "[encoded data removed]",
      "text/plain": [
       "<Figure size 432x288 with 1 Axes>"
      ]
     },
     "metadata": {
      "needs_background": "light"
     },
     "output_type": "display_data"
    }
   ],
   "source": [
    "models = [LinearRegression(),\n",
    "          GradientBoostingRegressor(),\n",
    "          RandomForestRegressor(),\n",
    "          KNeighborsRegressor(),\n",
    "          SVR(),\n",
    "          LogisticRegression(),\n",
    "          Ridge(),\n",
    "          Lasso(),\n",
    "          ElasticNet()]\n",
    "\n",
    "r2_scores = {}\n",
    "for model in models:\n",
    "    model.fit(X_train, y_train)\n",
    "    r2_scores[str(model)] = (r2_score(y_test, model.predict(X_test)))\n",
    "\n",
    "# Plot r2 scores\n",
    "bars = plt.bar(range(len(r2_scores)), list(r2_scores.values()), align='center')\n",
    "plt.xticks(range(len(r2_scores)), list(r2_scores.keys()), rotation=90)\n",
    "for bar in bars:\n",
    "    yval = round(bar.get_height(), 3)\n",
    "    plt.text(bar.get_x(), yval + .005, yval)\n",
    "plt.title('R2 scores for different regressors')\n",
    "plt.show()"
   ]
  },
  {
   "cell_type": "markdown",
   "metadata": {},
   "source": [
    "As we can see, Gradient Boosting model has the best score. Negative R2 scores mean that these models fit the data worse than a horizontal line."
   ]
  },
  {
   "cell_type": "markdown",
   "metadata": {},
   "source": [
    "Now we wil try to optimize Gradient Boosting regressor by running GridSearchCV"
   ]
  },
  {
   "cell_type": "code",
   "execution_count": 24,
   "metadata": {},
   "outputs": [
    {
     "name": "stdout",
     "output_type": "stream",
     "text": [
      "Fitting 3 folds for each of 243 candidates, totalling 729 fits\n"
     ]
    },
    {
     "name": "stderr",
     "output_type": "stream",
     "text": [
      "[Parallel(n_jobs=-1)]: Using backend LokyBackend with 4 concurrent workers.\n",
      "[Parallel(n_jobs=-1)]: Done  42 tasks      | elapsed:   12.7s\n",
      "[Parallel(n_jobs=-1)]: Done 192 tasks      | elapsed:   45.1s\n",
      "[Parallel(n_jobs=-1)]: Done 442 tasks      | elapsed:  1.7min\n",
      "[Parallel(n_jobs=-1)]: Done 729 out of 729 | elapsed:  2.7min finished\n"
     ]
    },
    {
     "name": "stdout",
     "output_type": "stream",
     "text": [
      "The best estimator across ALL searched params:\n",
      "GradientBoostingRegressor(learning_rate=0.07, max_depth=4, max_features=0.1,\n",
      "                          min_samples_leaf=3, n_estimators=250,\n",
      "                          random_state=42)\n",
      "The best score across ALL searched params:\n",
      "0.5276525408986833\n",
      "The best parameters across ALL searched params:\n",
      "{'learning_rate': 0.07, 'max_depth': 4, 'max_features': 0.1, 'min_samples_leaf': 3, 'n_estimators': 250}\n",
      "R2 score for GradientBoostingRegressor optimized by GridSearchCV:\n",
      " 0.7182120201018316\n"
     ]
    }
   ],
   "source": [
    "params_gradient_boosting = {'learning_rate': [0.1, 0.07, 0.05],\n",
    "                            'max_depth': [4, 5, 6],\n",
    "                            'min_samples_leaf': [3, 5, 9],\n",
    "                            'max_features': [0.2, 0.1, 0.01],\n",
    "                            'n_estimators': [100, 250, 500]}\n",
    "gradient_boosting = GradientBoostingRegressor(random_state=42)\n",
    "gs = GridSearchCV(gradient_boosting, params_gradient_boosting, cv=3, n_jobs=-1, verbose=1)\n",
    "gs.fit(X_train, y_train)\n",
    "print(f\"The best estimator across ALL searched params:\\n{gs.best_estimator_}\")\n",
    "print(f\"The best score across ALL searched params:\\n{gs.best_score_}\")\n",
    "print(f\"The best parameters across ALL searched params:\\n{gs.best_params_}\")\n",
    "gradient_boosting_with_gs_params = GradientBoostingRegressor(**gs.best_params_)\n",
    "gradient_boosting_with_gs_params.fit(X_train, y_train)\n",
    "print(f\"R2 score for GradientBoostingRegressor optimized by GridSearchCV:\\n\",\n",
    "      r2_score(y_test, gradient_boosting_with_gs_params.predict(X_test)))"
   ]
  },
  {
   "cell_type": "markdown",
   "metadata": {},
   "source": [
    "GridSearch did not show better result, so will stick with default parameters"
   ]
  },
  {
   "cell_type": "code",
   "execution_count": 25,
   "metadata": {},
   "outputs": [
    {
     "name": "stdout",
     "output_type": "stream",
     "text": [
      "R2 score for Gradient Boosting with default parameters:\n",
      "0.7380206087366961\n"
     ]
    }
   ],
   "source": [
    "gradient_boosting.fit(X_train, y_train)\n",
    "predicted = gradient_boosting.predict(X_test)\n",
    "print(f\"R2 score for Gradient Boosting with default parameters:\\n{r2_score(y_test, predicted)}\")"
   ]
  },
  {
   "cell_type": "markdown",
   "metadata": {},
   "source": [
    "Plotting predicted vs actual price"
   ]
  },
  {
   "cell_type": "code",
   "execution_count": 26,
   "metadata": {},
   "outputs": [
    {
     "data": {
      "image/png": "[encoded data removed]",
      "text/plain": [
       "<Figure size 432x288 with 1 Axes>"
      ]
     },
     "metadata": {},
     "output_type": "display_data"
    }
   ],
   "source": [
    "plt.style.use('ggplot')\n",
    "plt.plot(y_test, predicted, 'b.')\n",
    "plt.plot([y_test.min(), y_test.max()], [y_test.min(), y_test.max()], 'k--')\n",
    "plt.xlabel('Actual')\n",
    "plt.ylabel('Predicted')\n",
    "plt.title('Gradient Boosting Regressor')\n",
    "plt.show()"
   ]
  },
  {
   "cell_type": "markdown",
   "metadata": {},
   "source": [
    "Let's look at MAE and R2 score on train and test sets. There are quite many outliers in the dataset, so we are using the MAE since the outlier residuals won’t contribute as much to the total error as MSE."
   ]
  },
  {
   "cell_type": "code",
   "execution_count": 27,
   "metadata": {},
   "outputs": [
    {
     "name": "stdout",
     "output_type": "stream",
     "text": [
      "MAE train: 32.833, test: 40.237\n",
      "R2 score train: 0.794, test: 0.738\n"
     ]
    }
   ],
   "source": [
    "y_train_pred = gradient_boosting.predict(X_train)\n",
    "y_test_pred = gradient_boosting.predict(X_test)\n",
    "\n",
    "print(f'MAE train: {mean_absolute_error(y_train, y_train_pred):.3f}, '\n",
    "      f'test: {mean_absolute_error(y_test, y_test_pred):.3f}')\n",
    "print(f'R2 score train: {r2_score(y_train, y_train_pred):.3f}, test: {r2_score(y_test, y_test_pred):.3f}')"
   ]
  },
  {
   "cell_type": "markdown",
   "metadata": {},
   "source": [
    "Plotting residuals"
   ]
  },
  {
   "cell_type": "code",
   "execution_count": 28,
   "metadata": {},
   "outputs": [
    {
     "data": {
      "image/png": "[encoded data removed]",
      "text/plain": [
       "<Figure size 432x288 with 1 Axes>"
      ]
     },
     "metadata": {},
     "output_type": "display_data"
    }
   ],
   "source": [
    "plt.scatter(y_train_pred, y_train_pred-y_train, c='blue', marker='o', label='Training data')\n",
    "plt.scatter(y_test_pred, y_test_pred-y_test, c='lightgreen', marker='s', label='Test data')\n",
    "plt.xlabel('Predicted values')\n",
    "plt.ylabel('Residuals')\n",
    "plt.legend(loc='upper left')\n",
    "plt.hlines(y=0, xmin=y_test_pred.min() - 50, xmax=y_test_pred.max() + 50, lw=2, color='red')\n",
    "plt.xlim([y_test_pred.min() - 50, y_test_pred.max() + 50])\n",
    "plt.show()"
   ]
  },
  {
   "cell_type": "markdown",
   "metadata": {},
   "source": [
    "Plotting feature importance"
   ]
  },
  {
   "cell_type": "code",
   "execution_count": 29,
   "metadata": {},
   "outputs": [
    {
     "data": {
      "image/png": "[encoded data removed]",
      "text/plain": [
       "<Figure size 432x288 with 1 Axes>"
      ]
     },
     "metadata": {},
     "output_type": "display_data"
    }
   ],
   "source": [
    "pd.Series(gradient_boosting.feature_importances_, index=X.columns).nlargest(20).plot(kind='barh').invert_yaxis()\n",
    "plt.xlabel('Relative importance')\n",
    "plt.title('Feature importance')\n",
    "plt.show()"
   ]
  },
  {
   "cell_type": "markdown",
   "metadata": {},
   "source": [
    "The distribution of predicted prices"
   ]
  },
  {
   "cell_type": "code",
   "execution_count": 31,
   "metadata": {},
   "outputs": [
    {
     "data": {
      "image/png": "[encoded data removed]",
      "text/plain": [
       "<Figure size 432x288 with 1 Axes>"
      ]
     },
     "metadata": {},
     "output_type": "display_data"
    }
   ],
   "source": [
    "plt.hist(gradient_boosting.predict(X))\n",
    "plt.xlabel('Price')\n",
    "plt.ylabel('Frequency')\n",
    "plt.title('Predicted Housing Prices (fitted values)')\n",
    "plt.show()"
   ]
  },
  {
   "cell_type": "markdown",
   "metadata": {},
   "source": [
    "Finally we will predict price for submission dataset and save the result."
   ]
  },
  {
   "cell_type": "code",
   "execution_count": 33,
   "metadata": {},
   "outputs": [
    {
     "name": "stdout",
     "output_type": "stream",
     "text": [
      "                                 name  \\\n",
      "0     Top Location 1 block to Capitol   \n",
      "1  Charming Basement Apartment in DC    \n",
      "2        Cozy Apartment to Explore DC   \n",
      "3      Walk Everywhere! 3 Beds - 2 BR   \n",
      "4    Luxurious Apartment, Heart of DC   \n",
      "\n",
      "                                             summary  \\\n",
      "0  Location is unbeatable.   One block to US Capi...   \n",
      "1  This fully furnished basement apartment can be...   \n",
      "2  Convenient, newly renovated 1 bedroom/1 bathro...   \n",
      "3  Location! You're right on 14th street in Logan...   \n",
      "4  Satisfaction Guaranteed!  If you are not satis...   \n",
      "\n",
      "                                         description  \\\n",
      "0  Location is unbeatable.   One block to US Capi...   \n",
      "1  This fully furnished basement apartment can be...   \n",
      "2  Convenient, newly renovated 1 bedroom/1 bathro...   \n",
      "3  Location! You're right on 14th street in Logan...   \n",
      "4  Satisfaction Guaranteed!  If you are not satis...   \n",
      "\n",
      "                               neighborhood_overview  \\\n",
      "0  Outstanding security.  Charming historic villa...   \n",
      "1  Diverse neighborhood, steps from bars, restaur...   \n",
      "2  Petworth is an interesting and historic DC nei...   \n",
      "3  Whole Foods and Trader Joe are both close.  CV...   \n",
      "4  1 block from 14th Street, DC's best location a...   \n",
      "\n",
      "                                             transit  host_since  \\\n",
      "0                                                NaN  2013-11-27   \n",
      "1  Metro is a 5 min walk, as well as direct  bus ...  2015-04-05   \n",
      "2  We have a number of bus and train lines within...  2013-05-22   \n",
      "3  Parking is sometimes available for an extra $1...  2012-01-23   \n",
      "4  3 blocks from the Metro and a 15 minute walk f...  2013-06-20   \n",
      "\n",
      "                                     host_location  \\\n",
      "0                           Austin / DC / Cape Cod   \n",
      "1  Washington, District of Columbia, United States   \n",
      "2  Washington, District of Columbia, United States   \n",
      "3                                               US   \n",
      "4  Washington, District of Columbia, United States   \n",
      "\n",
      "                                          host_about host_response_rate  \\\n",
      "0  Long time provider of furnished housing.     W...                98%   \n",
      "1  Hey there! New to the airbnb community, living...                89%   \n",
      "2  I am a doctoral student in Washington, DC.  I ...               100%   \n",
      "3  I grew up in the DC area and I love it here!\\n...               100%   \n",
      "4  Hey there - I'm Adam and I moved to Washington...               100%   \n",
      "\n",
      "  host_acceptance_rate  ... review_scores_cleanliness review_scores_checkin  \\\n",
      "0                  79%  ...                       NaN                   NaN   \n",
      "1                  33%  ...                      10.0                  10.0   \n",
      "2                  91%  ...                      10.0                  10.0   \n",
      "3                  63%  ...                       9.0                  10.0   \n",
      "4                  99%  ...                       9.0                   9.0   \n",
      "\n",
      "  review_scores_communication review_scores_location review_scores_value  \\\n",
      "0                         NaN                    NaN                 NaN   \n",
      "1                        10.0                    9.0                 9.0   \n",
      "2                        10.0                   10.0                10.0   \n",
      "3                        10.0                   10.0                 9.0   \n",
      "4                        10.0                   10.0                 9.0   \n",
      "\n",
      "  instant_bookable cancellation_policy calculated_host_listings_count  \\\n",
      "0                f              strict                              5   \n",
      "1                f            flexible                              1   \n",
      "2                f            moderate                              1   \n",
      "3                f              strict                              2   \n",
      "4                f            moderate                              4   \n",
      "\n",
      "  reviews_per_month price_prediction  \n",
      "0              1.00       127.920172  \n",
      "1              0.36              NaN  \n",
      "2              4.00        92.313909  \n",
      "3              2.32              NaN  \n",
      "4              5.23       130.814913  \n",
      "\n",
      "[5 rows x 45 columns]\n"
     ]
    }
   ],
   "source": [
    "X_df_submission = df.drop(['price'], axis=1).loc['submission']\n",
    "df_submission['price_prediction'] = pd.Series(gradient_boosting.predict(X_df_submission), index=X_df_submission.index)\n",
    "print(df_submission.head())\n",
    "df_submission.to_csv('submission_with_predicted_price.csv')"
   ]
  },
  {
   "cell_type": "markdown",
   "metadata": {},
   "source": [
    "## Future improvements:\n",
    "- Location features are quite important, so we can treat them for example as one feature - distance to the city center. Or make new feature with coordinates of the house\n",
    "- We can try different outlier detection methods like empirical covariance, robust covariance, One Class SVM\n",
    "- Can make use of 'description' or 'neighbourhood_overview' textual data by using NLP techniques\n",
    "- Better tune GridSearchCV"
   ]
  },
  {
   "cell_type": "code",
   "execution_count": null,
   "metadata": {},
   "outputs": [],
   "source": []
  }
 ],
 "metadata": {
  "kernelspec": {
   "display_name": "Python 3",
   "language": "python",
   "name": "python3"
  },
  "language_info": {
   "codemirror_mode": {
    "name": "ipython",
    "version": 3
   },
   "file_extension": ".py",
   "mimetype": "text/x-python",
   "name": "python",
   "nbconvert_exporter": "python",
   "pygments_lexer": "ipython3",
   "version": "3.7.7"
  }
 },
 "nbformat": 4,
 "nbformat_minor": 4
}
